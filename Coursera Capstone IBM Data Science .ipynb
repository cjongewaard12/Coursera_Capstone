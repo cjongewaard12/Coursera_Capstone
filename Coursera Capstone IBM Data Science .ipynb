{
    "cells": [
        {
            "cell_type": "markdown",
            "metadata": {
                "collapsed": true
            },
            "source": "# Peer-graded Assignment: Capstone Project - The Battle of Neighborhoods (Week 1)"
        },
        {
            "cell_type": "markdown",
            "metadata": {},
            "source": "## Introduction: "
        },
        {
            "cell_type": "markdown",
            "metadata": {},
            "source": "#### Clearly define a problem or an idea of your choice, where you would need to leverage the Foursquare location data to solve or execute. Remember that data science problems always target an audience and are meant to help a group of stakeholders solve a problem, so make sure that you explicitly describe your audience and why they would care about your problem."
        },
        {
            "cell_type": "markdown",
            "metadata": {},
            "source": "#### People migrating to various states of Canada and need research for housing prices and reputable schools for their children. This project is aimed at those looking for good or better neighborhoods that include ease of access to schools,  safety, low crime ,grocery stores, malls, theatres, hospitals, etc.\n\n#### The aim of this project is to analyze the features of Canada to find the best neighborhood as a compared to others neighborhoods. The categories included in the analysis are median housing price, school ratings, crime rates, infrastructure, weather conditions, emergency services, water resources, public health, and recreational facilities.\n\n#### This will help make an informed decision of the area or neighborhood before moving to a new city, state, country or place for their work."
        },
        {
            "cell_type": "markdown",
            "metadata": {},
            "source": "## Business Problem:"
        },
        {
            "cell_type": "markdown",
            "metadata": {},
            "source": "#### The problem I am trying to solve is finding the best neighborhood or a list of the top neighborhoods for people moving to Canada or looking to relocate within Canada. This will be based upon the factors listed above."
        },
        {
            "cell_type": "markdown",
            "metadata": {},
            "source": "### Location: "
        },
        {
            "cell_type": "markdown",
            "metadata": {},
            "source": "#### As stated earlier Canada will be the focus of this analysis, but more specifically Toronto. "
        },
        {
            "cell_type": "markdown",
            "metadata": {},
            "source": "## Data: "
        },
        {
            "cell_type": "markdown",
            "metadata": {},
            "source": "#### Data Link: https://en.wikipedia.org/wiki/List_of_postal_codes_of_Canada:_M\n#### The data set being used will be the one that was used in week 3"
        },
        {
            "cell_type": "markdown",
            "metadata": {},
            "source": "## Foursquare API Data:"
        },
        {
            "cell_type": "markdown",
            "metadata": {},
            "source": "#### In order to use data about different venues in different neighborhoods we will need to use the \"Foursquare\" locational information. Foursquare is a location data provider with information about all of the categories needed to the analysis. Such information includes venue names, locations, menus and even photos. Therefore the foursquare location platform will be used as the only data source since all of the data can be attained through the API.\n\n#### After finding the list of neighborhoods, we then connect to the Foursquare API to gather information about venues inside each and every neighborhood. For each neighborhood, we have chosen the radius to be 100 meter.\n\n#### The data retrieved from Foursquare contained information of venues within a specified distance of the longitude and latitude of the postcodes. The information obtained per venue as follows:\n\n1. Neighborhood\n2. Neighborhood Latitude\n3. Neighborhood Longitude\n4. Venue\n5. Name of the venue e.g. the name of a store or restaurant\n6. Venue Latitude\n7. Venue Longitude\n8. Venue Category"
        },
        {
            "cell_type": "code",
            "execution_count": null,
            "metadata": {},
            "outputs": [],
            "source": ""
        }
    ],
    "metadata": {
        "kernelspec": {
            "display_name": "Python 3.6",
            "language": "python",
            "name": "python3"
        },
        "language_info": {
            "codemirror_mode": {
                "name": "ipython",
                "version": 3
            },
            "file_extension": ".py",
            "mimetype": "text/x-python",
            "name": "python",
            "nbconvert_exporter": "python",
            "pygments_lexer": "ipython3",
            "version": "3.6.9"
        }
    },
    "nbformat": 4,
    "nbformat_minor": 1
}