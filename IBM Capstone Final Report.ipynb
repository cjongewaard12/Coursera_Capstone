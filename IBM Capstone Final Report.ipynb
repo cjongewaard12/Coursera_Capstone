{
    "cells": [
        {
            "cell_type": "markdown",
            "metadata": {
                "collapsed": true
            },
            "source": "# Final Report: Capstone - The Battle of the Neighborhoods"
        },
        {
            "cell_type": "markdown",
            "metadata": {},
            "source": "## 1. Introduction"
        },
        {
            "cell_type": "markdown",
            "metadata": {},
            "source": " People migrating to various states of Canada and need research for housing prices and reputable schools for their children. This project is aimed at those looking for good or better neighborhoods that include ease of access to schools, safety, low crime ,grocery stores, malls, theatres, hospitals, etc. \n\n The aim of this project is to analyze the features of Canada to find the best neighborhood as a compared to others neighborhoods. The categories included in the analysis are median housing price, school ratings, crime rates, infrastructure, weather conditions, emergency services, water resources, public health, and recreational facilities.\n\n This will help make an informed decision of the area or neighborhood before moving to a new city, state, country or place for their work.\n\nThe problem I am trying to solve is finding the best neighborhood or a list of the top neighborhoods for people moving to Canada or looking to relocate within Canada. This will be based upon the factors listed above."
        },
        {
            "cell_type": "markdown",
            "metadata": {},
            "source": "## 2. Data"
        },
        {
            "cell_type": "markdown",
            "metadata": {},
            "source": "### Data Link: https://en.wikipedia.org/wiki/List_of_postal_codes_of_Canada:_M\n\nThis is the same data set that was use in week 3 of the capstone project.\n\n### Foursquare API Data:\n\nIn order to use data about different venues in different neighborhoods we will need to use the \"Foursquare\" locational information. Foursquare is a location data provider with information about all of the categories needed to the analysis. Such information includes venue names, locations, menus and even photos. Therefore the foursquare location platform will be used as the only data source since all of the data can be attained through the API.\n\nAfter finding the list of neighborhoods, we then connect to the Foursquare API to gather information about venues inside each and every neighborhood. For each neighborhood, we have chosen the radius to be 100 meter.\nThe data retrieved from Foursquare contained information of venues within a specified distance of the longitude and latitude of the postcodes. The information obtained per venue as follows:\n\n1. Neighborhood \n2. Neighborhood Latitude \n3. Neighborhood Longitude \n4. Venue \n5. Name of the venue e.g. the name of a store or restaurant \n6. Venue Latitude \n7. Venue Longitude \n8. Venue Category "
        },
        {
            "cell_type": "markdown",
            "metadata": {},
            "source": "## 3. Methodology"
        },
        {
            "cell_type": "markdown",
            "metadata": {},
            "source": "### Clustering:"
        },
        {
            "cell_type": "markdown",
            "metadata": {},
            "source": "In order to compare the similarities of two differnt cities I have decided to use the clustering approach. First I had to explore the neighborhoods and the raw data. The next step is to segment the neighborhoods and group them into appropriate clusters based off of the categories listed above and data gathered later on using foursquare. Grouping them into clusters allows me to mine the data and find similar neighborhoods in a fairly large city. This approach ensures more accuracy as well. To execute this strategy properly I had to use k-means clustering algorithm which is an unpserpisved form of machine learning."
        },
        {
            "cell_type": "markdown",
            "metadata": {},
            "source": "### Work Flow:"
        },
        {
            "cell_type": "markdown",
            "metadata": {},
            "source": "Using my personal credentials for the Foursquare API allows me to mine the data from nearby neighborhoods to get the current information I need in order to perform the correct analysis. This data will add to the clustering and prove which cluster is the best. Due to http request limitations the number of places per neighborhood parameter has been reasonably set at 100 and the radius parameter is set to 700 which provides a substantial amount of data needed to validate the analysis."
        },
        {
            "cell_type": "markdown",
            "metadata": {},
            "source": "### K-Means Clustering Approach: "
        },
        {
            "cell_type": "markdown",
            "metadata": {},
            "source": "![image_1](IBM_Coursera/clusters_code.png)"
        },
        {
            "cell_type": "markdown",
            "metadata": {},
            "source": "### Map of Clusters:"
        },
        {
            "cell_type": "markdown",
            "metadata": {},
            "source": "![image_2](IBM_Coursera/image_2_clusters.png)"
        },
        {
            "cell_type": "markdown",
            "metadata": {},
            "source": "## 4. Results"
        },
        {
            "cell_type": "markdown",
            "metadata": {},
            "source": "### Map of the Clusters:"
        },
        {
            "cell_type": "markdown",
            "metadata": {},
            "source": "![image_3](IBM_Coursera/image_2_clusters.png)"
        },
        {
            "cell_type": "markdown",
            "metadata": {},
            "source": "### Average Housing Prices by Cluster:"
        },
        {
            "cell_type": "markdown",
            "metadata": {},
            "source": "![image_4](IBM_Coursera/download.png)"
        },
        {
            "cell_type": "markdown",
            "metadata": {},
            "source": "### School Ratings by Cluster:"
        },
        {
            "cell_type": "markdown",
            "metadata": {},
            "source": "![image_4](IBM_Coursera/download(1).png)"
        },
        {
            "cell_type": "markdown",
            "metadata": {},
            "source": "### The Best Neighborhood:"
        },
        {
            "cell_type": "markdown",
            "metadata": {},
            "source": "After examining the maps presented above Scarborough looks to be a popular neighborhood for new immigrants in Canada as well as current residents as a place to live. Since it is so diverse and populous this means it is one of the most diverse and multicultural areas in the Toronto area. This area provides the means for a multitude of groups to live comfortably and lead successful lives. However it should be noted that immigration is an important topic within the political arena with more governments seeking more restrictions on immigrants and refugees. Yet, the general trend of immigration into Canada has been one of on the rise which makes Scarborough even more appealing, especially for its American counterparts."
        },
        {
            "cell_type": "markdown",
            "metadata": {},
            "source": "### Foursquare:"
        },
        {
            "cell_type": "markdown",
            "metadata": {},
            "source": "This project along with wikipedia used Foursquare API as a prime data gathering source since it is database with millions of additional data not provided by wikipedia. The Foursquare data showed that Scarborough does in fact look like one of the best neighborhoods in Toronto. This is based off of the categories gathered from Foursquare which are listed above. The API provides the ability to perform location search, location sharing and details about a business and neighborhood."
        },
        {
            "cell_type": "markdown",
            "metadata": {},
            "source": "## 5. Discussion"
        },
        {
            "cell_type": "markdown",
            "metadata": {},
            "source": "### Problem Solved:"
        },
        {
            "cell_type": "markdown",
            "metadata": {},
            "source": "The purpose of this project is to suggest the best or one of the best neighborhoods for people moving to a new city, in this case Toronto. Factors that were taken into account were connectivity to the airport, bus stand, city center, markets and other daily needs that are close to the various neighborhoods. Some basic analysis was performed and shown graphically by:\n\n1. A sorted list of house based on median housing prices in a ascending or descending order\n\n2. A sorted list of schools based on location, fees, rating and reviews"
        },
        {
            "cell_type": "markdown",
            "metadata": {},
            "source": "## 6. Conclusion"
        },
        {
            "cell_type": "markdown",
            "metadata": {},
            "source": "In conclusion, by using k-means clustering algorithm I separated the neighborhood into ten different clusters and found the best neighborhood which turns out to be Scarborough. This is based off of the one hundred and three different lattitude and logitude locations within the dataset. These coordinates are fairly similar with the only differences in the categories laid out in the introduction. Further based off of the charts presented above the median housing price and school ratings points to Scarborough again being the top of neighborhoods being analyzed with Malvern, Rouge, Union Station, and Toronto Islnds occupying a good balance between school ratings and median price. Obvioulsy there are neighborhoods with higher school ratings or higher median price, but the best neighborhood would provide a lower median price and higher school rating. Overall it seems like there is not a clear winner. However, this is only based on two categories. \n\nOverall this project has shown a practical application of the topics covered in the IBM data science courses. This application was then used to resolve a real world situation that impacts personal and financial situations of actual famalies."
        },
        {
            "cell_type": "markdown",
            "metadata": {},
            "source": "### Future Works:"
        },
        {
            "cell_type": "markdown",
            "metadata": {},
            "source": "This project can be continued with further, more in depth analysis. This further analysis will make the current analysis even more precise in terms of finding the best neighborhood for purchasing a home. It should be noted that even more categories could be added to the existing foursquare data for a more in-depth analysis. A more extensive and in-depth analysis is usually better and should include daily needs or things we need to live a better life. There are many approaches that could be taken in furture projects."
        },
        {
            "cell_type": "markdown",
            "metadata": {},
            "source": "### Libraries Which are Used to Develope the Project:\n##### Pandas: For creating and manipulating dataframes.\n\n##### Folium: Python visualization library would be used to visualize the neighborhoods cluster distribution of using interactive leaflet map.\n\n##### Scikit Learn: For importing k-means clustering.\n\n##### JSON: Library to handle JSON files.\n\n##### XML: To separate data from presentation and XML stores data in plain text format.\n\n##### Geocoder: To retrieve Location Data.\n\n##### Beautiful Soup and Requests: To scrap and library to handle http requests.\n\n##### Matplotlib: Python Plotting Module."
        },
        {
            "cell_type": "markdown",
            "metadata": {},
            "source": ""
        }
    ],
    "metadata": {
        "kernelspec": {
            "display_name": "Python 3.6",
            "language": "python",
            "name": "python3"
        },
        "language_info": {
            "codemirror_mode": {
                "name": "ipython",
                "version": 3
            },
            "file_extension": ".py",
            "mimetype": "text/x-python",
            "name": "python",
            "nbconvert_exporter": "python",
            "pygments_lexer": "ipython3",
            "version": "3.6.9"
        }
    },
    "nbformat": 4,
    "nbformat_minor": 1
}